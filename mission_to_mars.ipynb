{
 "cells": [
  {
   "cell_type": "code",
   "execution_count": 1,
   "metadata": {},
   "outputs": [],
   "source": [
    "import pandas as pd\n",
    "import datetime as dt\n",
    "\n",
    "from bs4 import BeautifulSoup as bs\n",
    "import requests\n",
    "import pymongo\n",
    "from splinter import Browser"
   ]
  },
  {
   "cell_type": "code",
   "execution_count": 2,
   "metadata": {},
   "outputs": [],
   "source": [
    "import os\n",
    "from selenium import webdriver\n",
    "from selenium.webdriver.chrome.options import Options"
   ]
  },
  {
   "cell_type": "code",
   "execution_count": 11,
   "metadata": {},
   "outputs": [],
   "source": [
    "options = Options()\n",
    "\n",
    "# options.binary_location = os.environ.get('GOOGLE_CHROME_BIN')\n",
    "\n",
    "options.add_argument('--headless')\n",
    "options.add_argument('--disable-gpu')\n",
    "options.add_argument('--no-sandbox')\n",
    "driver = webdriver.Chrome(executable_path='chromedriver.exe', options=options)\n"
   ]
  },
  {
   "cell_type": "code",
   "execution_count": null,
   "metadata": {},
   "outputs": [],
   "source": [
    "# Set initial url to JPL mars topic content.\n",
    "url2 =\"https://www.jpl.nasa.gov/spaceimages/?search=&category=Mars\"\n",
    "# browser = Browser('chrome', headless=True)\n",
    "# Visit landing page\n",
    "browser.get(url2)\n",
    "# Save HTML to variable\n",
    "\n",
    "\n"
   ]
  },
  {
   "cell_type": "code",
   "execution_count": null,
   "metadata": {},
   "outputs": [],
   "source": [
    "# # Create BSoup object. Parse HTML\n",
    "\n",
    "body= browser.find_element_by_tag_name(\"body\").get_attribute('innerHTML')\n",
    "# body\n"
   ]
  },
  {
   "cell_type": "code",
   "execution_count": null,
   "metadata": {},
   "outputs": [],
   "source": [
    "jpl = bs(body, 'html.parser')\n",
    "\n",
    "jpl_base = 'https://www.jpl.nasa.gov'\n",
    "jpl_link_format = str( jpl_base + (jpl.find_all('footer')[0].a.get('data-link')) )\n",
    "jpl_link_format"
   ]
  },
  {
   "cell_type": "code",
   "execution_count": null,
   "metadata": {},
   "outputs": [],
   "source": []
  },
  {
   "cell_type": "code",
   "execution_count": null,
   "metadata": {},
   "outputs": [],
   "source": []
  },
  {
   "cell_type": "code",
   "execution_count": null,
   "metadata": {},
   "outputs": [],
   "source": []
  },
  {
   "cell_type": "code",
   "execution_count": null,
   "metadata": {},
   "outputs": [],
   "source": []
  },
  {
   "cell_type": "code",
   "execution_count": 5,
   "metadata": {},
   "outputs": [],
   "source": [
    "url = 'https://mars.nasa.gov/news/'\n",
    "browser = Browser('chrome', headless=True) # <<<<<<----- Set headless=False to have browser pop-up\n",
    "browser.visit(url)\n",
    "html = browser.html\n",
    "# Create BeautifulSoup object; parse with 'lxml'\n",
    "nasa_gov = bs(html, 'lxml')"
   ]
  },
  {
   "cell_type": "code",
   "execution_count": null,
   "metadata": {},
   "outputs": [],
   "source": [
    "nasa_gov"
   ]
  },
  {
   "cell_type": "code",
   "execution_count": 6,
   "metadata": {},
   "outputs": [
    {
     "name": "stdout",
     "output_type": "stream",
     "text": [
      "Mars 2020 Rover Gets a Super Instrument\n",
      "With its rock-zapping laser, the SuperCam will enable the science team to identify the chemical and mineral makeup of its targets on the Red Planet.\n"
     ]
    }
   ],
   "source": [
    "# Returns a list of all the content title, only saving the first found (index [0]) as it is most recent.\n",
    "news_title = nasa_gov.find_all('div', class_=\"content_title\")[0].get_text()\n",
    "\n",
    "# Returns a list of all the title body  contents/paragraphs, only saving the first found (index [0]) as it is most recent.\n",
    "\n",
    "news_content = nasa_gov.find_all('div', class_=\"article_teaser_body\")[0].get_text()\n",
    "\n",
    "print(news_title)\n",
    "print(news_content)"
   ]
  },
  {
   "cell_type": "code",
   "execution_count": 9,
   "metadata": {},
   "outputs": [],
   "source": [
    "driver.get('https://mars.nasa.gov/news/')\n",
    "html = driver.find_element_by_tag_name(\"body\").get_attribute('innerHTML')\n",
    "\n",
    "# Create BeautifulSoup object; parse with 'lxml'\n",
    "nasa_gov = bs(html, 'lxml')\n",
    "# Returns a list of all the content title, only saving the first found (index [0]) as it is most recent.\n",
    "news_title = nasa_gov.find_all('div', class_=\"content_title\")[0].get_text()\n",
    "# Returns a list of all the title body  contents/paragraphs, only saving the first found (index [0]) as it is most recent.\n",
    "news_content = nasa_gov.find_all('div', class_=\"article_teaser_body\")[0].get_text()"
   ]
  },
  {
   "cell_type": "code",
   "execution_count": 10,
   "metadata": {},
   "outputs": [
    {
     "name": "stdout",
     "output_type": "stream",
     "text": [
      "With its rock-zapping laser, the SuperCam will enable the science team to identify the chemical and mineral makeup of its targets on the Red Planet.\n",
      "Mars 2020 Rover Gets a Super Instrument\n"
     ]
    }
   ],
   "source": [
    "print(news_content)\n",
    "print(news_title)"
   ]
  },
  {
   "cell_type": "code",
   "execution_count": null,
   "metadata": {},
   "outputs": [],
   "source": []
  },
  {
   "cell_type": "code",
   "execution_count": null,
   "metadata": {},
   "outputs": [],
   "source": []
  },
  {
   "cell_type": "code",
   "execution_count": null,
   "metadata": {},
   "outputs": [],
   "source": []
  },
  {
   "cell_type": "code",
   "execution_count": null,
   "metadata": {},
   "outputs": [],
   "source": []
  },
  {
   "cell_type": "code",
   "execution_count": null,
   "metadata": {},
   "outputs": [],
   "source": [
    "# Set initial url to JPL mars topic content.\n",
    "url2 =\"https://www.jpl.nasa.gov/spaceimages/?search=&category=Mars\"\n",
    "browser = Browser('chrome', headless=False)\n",
    "# Visit landing page\n",
    "browser.visit(url2)\n",
    "# Save HTML to variable\n",
    "jpl_html = browser.html\n",
    "\n",
    "# Create BSoup object. Parse HTML\n",
    "jpl = bs(jpl_html, 'html.parser')\n",
    "\n",
    "# jpl"
   ]
  },
  {
   "cell_type": "code",
   "execution_count": null,
   "metadata": {},
   "outputs": [],
   "source": []
  },
  {
   "cell_type": "code",
   "execution_count": null,
   "metadata": {},
   "outputs": [],
   "source": [
    "# Featured image on landing page is not the full size image. \n",
    "# Path to the full size image is contained within an <a> tag's href in the footer element.\n",
    "# This is the concise refactored code\n",
    "jpl_base = 'https://www.jpl.nasa.gov'\n",
    "jpl_link_format = str( jpl_base + (jpl.find_all('footer')[0].a.get('data-link')) )\n",
    "\n",
    "#Vebose method below....\n",
    "\n",
    "# #Returns the first entry of a list of footer tags\n",
    "# footer = jpl.find_all('footer')[0].get('data=link')\n",
    "\n",
    "# # Access the a tag link(.php link) to  use to traverse to that page which contains the full sie image.\n",
    "# jpl_link = footer.a['data-link']\n",
    "\n",
    "# # Create the complete link string\n",
    "# jpl_link_format = str(jpl_base+jpl_link )\n",
    "\n",
    "jpl_link_format"
   ]
  },
  {
   "cell_type": "code",
   "execution_count": null,
   "metadata": {},
   "outputs": [],
   "source": [
    "#Visit the next page i.e the page where we find the full size image.\n",
    "browser = Browser('chrome', headless=True)\n",
    "browser.visit(jpl_link_format)\n",
    "# Save the html to var\n",
    "jpl_target = browser.html\n",
    "# Create new Soup object\n",
    "jpl_target_html = bs(jpl_target, 'html.parser')"
   ]
  },
  {
   "cell_type": "code",
   "execution_count": null,
   "metadata": {},
   "outputs": [],
   "source": [
    "# Refactored: Find the featued image url. Concise method\n",
    "featured_img_url = str(jpl_base+ (jpl_target_html.find_all('figure', class_='lede')[0].a.get('href'))  )\n",
    "\n",
    "\n",
    "\n",
    "#######Verbose method of above\n",
    "\n",
    "# Find the featued image url. Contained in <figure> , list returned contains one entry but it must be out of list format\n",
    "# to access inner <a> href.. Use index [0]\n",
    "# featured_loc = jpl_target_html.find_all('figure', class_='lede')[0]\n",
    "# featured_url_partial = featured_loc.a['href']\n",
    "\n",
    "# ## If we didnt use index [0] in the prior cell above^^^ this is the alternate method of accessing the href\n",
    "# #featured_url_partial = featured_loc[0].a['href']\n",
    "\n",
    "# # Create complete url string\n",
    "# featured_img_url = str(jpl_base+featured_url_partial)\n",
    "\n",
    "\n",
    "featured_img_url"
   ]
  },
  {
   "cell_type": "code",
   "execution_count": null,
   "metadata": {},
   "outputs": [],
   "source": [
    "#  All current required  scraped info and variables up to this cell\n",
    "print(news_title)\n",
    "print(news_content)\n",
    "print(featured_img_url)"
   ]
  },
  {
   "cell_type": "code",
   "execution_count": null,
   "metadata": {},
   "outputs": [],
   "source": [
    "mars_twit=\"https://twitter.com/marswxreport?lang=en\"\n",
    "browser = Browser('chrome', headless=False)\n",
    "#Visit the page \n",
    "browser.visit(mars_twit)\n",
    "# Save browsed page to var\n",
    "mars_browse = browser.html\n",
    "# Parse HTML\n",
    "mars_twit_html = bs(mars_browse,'html.parser')\n",
    "mars_twit_html"
   ]
  },
  {
   "cell_type": "code",
   "execution_count": null,
   "metadata": {},
   "outputs": [],
   "source": [
    "# Returns a list of all <P> tags wityh class 'tweet-text'. This is where the tweets written content is contained.\n",
    "mars_tweet = mars_twit_html.find_all('p', class_='tweet-text')[0].text\n",
    "\n",
    "mars_tweet"
   ]
  },
  {
   "cell_type": "code",
   "execution_count": null,
   "metadata": {},
   "outputs": [],
   "source": [
    "# Tweet <p> text is returned with '\\n' newline special chatacter. .r/l/strip() neither worked. Must use replace.\n",
    "mars_tweet = mars_tweet.replace('\\n',',')\n",
    "mars_tweet"
   ]
  },
  {
   "cell_type": "code",
   "execution_count": null,
   "metadata": {},
   "outputs": [],
   "source": [
    "print(news_title)\n",
    "print(news_content)\n",
    "print(featured_img_url)\n",
    "print(mars_tweet)"
   ]
  },
  {
   "cell_type": "code",
   "execution_count": null,
   "metadata": {},
   "outputs": [],
   "source": [
    "# Use pandas to read in the tabular data of facts\n",
    "\n",
    "facts_url = 'http://space-facts.com/mars/'\n",
    "mars_facts = pd.read_html(facts_url)\n",
    "mars_facts"
   ]
  },
  {
   "cell_type": "code",
   "execution_count": null,
   "metadata": {},
   "outputs": [],
   "source": [
    "# Reconstruct mars_facts DF(result of the scrape), to a dataframe that doesn't require list indexing.\n",
    "mars_facts_pd = pd.DataFrame(mars_facts[0])\n",
    "mars_facts_pd"
   ]
  },
  {
   "cell_type": "code",
   "execution_count": null,
   "metadata": {},
   "outputs": [],
   "source": [
    "# Rename columns\n",
    "mars_facts_pd = mars_facts_pd.rename(columns = {0:'Descriptor',1:'Data'})\n",
    "mars_facts_pd"
   ]
  },
  {
   "cell_type": "code",
   "execution_count": null,
   "metadata": {},
   "outputs": [],
   "source": [
    "mars_facts_html = mars_facts_pd.to_html()\n",
    "mars_facts_html"
   ]
  },
  {
   "cell_type": "code",
   "execution_count": null,
   "metadata": {},
   "outputs": [],
   "source": [
    "image_site_url = 'https://astrogeology.usgs.gov/search/results?q=hemisphere+enhanced&k1=target&v1=Mars'\n",
    "image_site_base = 'https://astrogeology.usgs.gov'\n",
    "browser = Browser('chrome', headless=True)\n",
    "#Visit the page \n",
    "browser.visit(image_site_url)\n",
    "# Save browsed page to var\n",
    "mars_img_browse = browser.html\n",
    "# Parse HTML\n",
    "mars_img_html = bs(mars_img_browse,'html.parser')\n",
    "mars_img_html"
   ]
  },
  {
   "cell_type": "code",
   "execution_count": null,
   "metadata": {
    "scrolled": true
   },
   "outputs": [],
   "source": [
    "# Initialize list to store the link to the webpage for an individual hemisphere\n",
    "mars_hemi_targets = []\n",
    "\n",
    "# Link contained in a <div> , that has a nested <a>. Use .get() to access the a href. \n",
    "# Concat the website base url to the href before appending to list of links used in next traversal.\n",
    "[mars_hemi_targets.append(image_site_base + div.a.get('href')) for div in mars_img_html.find_all('div', class_='description')]\n",
    "\n",
    "mars_hemi_targets\n",
    "\n",
    "###### This is the same as doing the verbose method below.############\n",
    "\n",
    "# link_locs = mars_img_html.find_all('div', class_='description')\n",
    "\n",
    "# mars_hemi_links = []\n",
    "# [mars_hemi_links.append(div.a['href']) for div in link_locs]\n",
    "\n",
    "# mars_hemi_targets = []\n",
    "# [mars_hemi_targets.append(image_site_base + link) for link in mars_hemi_links]\n"
   ]
  },
  {
   "cell_type": "code",
   "execution_count": null,
   "metadata": {},
   "outputs": [],
   "source": [
    "# Create empty list for storing the image title and URL dictionary\n",
    "#Ex:  {\"title\": \"Valles Marineris Hemisphere\", \"img_url\": \"...\"},\n",
    "hemi_title_url = []\n",
    "\n",
    "#Loop through the 4 targets which correspond to individal pages for each hemisphere. \n",
    "# headless=True to execute without browser pop-up\n",
    "\n",
    "for target in mars_hemi_targets:\n",
    "    browser = Browser('chrome', headless=True)\n",
    "    #Visit the page \n",
    "    browser.visit(target)\n",
    "    # Save browsed page to var\n",
    "    target_obj = browser.html\n",
    "    # Parse HTML\n",
    "    target_html= bs(target_obj,'html.parser')\n",
    "    # Even though the is only one h2 with class='title', find_all() returns the results as a list. Must use index [0].\n",
    "    title = target_html.find_all('h2', class_='title')[0].text\n",
    "    # Same logic as above\n",
    "    hemi_url = target_html.find_all('a', text='Sample')[0].get('href')\n",
    "    # Append the result in dict format to the empty list created prior\n",
    "    hemi_title_url.append({'title':title,'img_url':hemi_url})   "
   ]
  },
  {
   "cell_type": "code",
   "execution_count": null,
   "metadata": {},
   "outputs": [],
   "source": [
    "## Results of  the above^^^^^ for loop should match the format of the example below\n",
    "\n",
    "# hemisphere_image_urls = [\n",
    "#     {\"title\": \"Valles Marineris Hemisphere\", \"img_url\": \"...\"},\n",
    "#     {\"title\": \"Cerberus Hemisphere\", \"img_url\": \"...\"},\n",
    "#     {\"title\": \"Schiaparelli Hemisphere\", \"img_url\": \"...\"},\n",
    "#     {\"title\": \"Syrtis Major Hemisphere\", \"img_url\": \"...\"},\n",
    "# ]\n",
    "hemi_title_url\n"
   ]
  },
  {
   "cell_type": "code",
   "execution_count": null,
   "metadata": {},
   "outputs": [],
   "source": [
    "#### Reference of var names and data of all necessary items  scraped, up to this cell\n",
    "\n",
    "print(news_title)\n",
    "print(news_content)\n",
    "print(featured_img_url)\n",
    "print(mars_tweet)\n",
    "print(hemi_title_url)\n",
    "#print(mars_facts_html) <<<------html table. !dont print"
   ]
  },
  {
   "cell_type": "code",
   "execution_count": null,
   "metadata": {},
   "outputs": [],
   "source": []
  },
  {
   "cell_type": "code",
   "execution_count": null,
   "metadata": {},
   "outputs": [],
   "source": []
  },
  {
   "cell_type": "code",
   "execution_count": null,
   "metadata": {},
   "outputs": [],
   "source": []
  },
  {
   "cell_type": "code",
   "execution_count": null,
   "metadata": {},
   "outputs": [],
   "source": []
  },
  {
   "cell_type": "code",
   "execution_count": null,
   "metadata": {},
   "outputs": [],
   "source": [
    "\n"
   ]
  }
 ],
 "metadata": {
  "kernelspec": {
   "display_name": "Python 3",
   "language": "python",
   "name": "python3"
  },
  "language_info": {
   "codemirror_mode": {
    "name": "ipython",
    "version": 3
   },
   "file_extension": ".py",
   "mimetype": "text/x-python",
   "name": "python",
   "nbconvert_exporter": "python",
   "pygments_lexer": "ipython3",
   "version": "3.7.3"
  }
 },
 "nbformat": 4,
 "nbformat_minor": 2
}
